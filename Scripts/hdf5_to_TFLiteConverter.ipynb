{
 "cells": [
  {
   "cell_type": "markdown",
   "metadata": {
    "colab_type": "text",
    "id": "uj2kevKRM9ur"
   },
   "source": [
    "# Import TensorFlow Lite"
   ]
  },
  {
   "cell_type": "code",
   "execution_count": 0,
   "metadata": {
    "colab": {
     "base_uri": "https://localhost:8080/",
     "height": 54
    },
    "colab_type": "code",
    "id": "5nO0I2Y4FLTs",
    "outputId": "4df69113-6b90-4a58-b658-901dd47b66d9"
   },
   "outputs": [
    {
     "name": "stdout",
     "output_type": "stream",
     "text": [
      "Drive already mounted at /content/drive; to attempt to forcibly remount, call drive.mount(\"/content/drive\", force_remount=True).\n"
     ]
    }
   ],
   "source": [
    "from google.colab import drive\n",
    "drive.mount('/content/drive')"
   ]
  },
  {
   "cell_type": "code",
   "execution_count": 0,
   "metadata": {
    "colab": {
     "base_uri": "https://localhost:8080/",
     "height": 34
    },
    "colab_type": "code",
    "id": "QSLFKa8GfDMr",
    "outputId": "c3f11316-0636-4fa4-da97-720dd99e32db"
   },
   "outputs": [
    {
     "name": "stdout",
     "output_type": "stream",
     "text": [
      "1.13.1\n"
     ]
    }
   ],
   "source": [
    "\n",
    "import tensorflow as tf\n",
    "from tensorflow.contrib import lite\n",
    "\n",
    "print( tf.VERSION )\n"
   ]
  },
  {
   "cell_type": "code",
   "execution_count": 0,
   "metadata": {
    "colab": {
     "base_uri": "https://localhost:8080/",
     "height": 4950
    },
    "colab_type": "code",
    "id": "dmsCGAK1Gmhh",
    "outputId": "85f02c39-074c-4e93-878f-c7ac0480484d"
   },
   "outputs": [
    {
     "name": "stdout",
     "output_type": "stream",
     "text": [
      " 277231.pdf\n",
      " 36342557568-675347551-ticket.pdf\n",
      "'3 Be report.gdoc'\n",
      " 7620,7410,7617,7621.gslides\n",
      " 7653_7656_7659_Hospital.gdoc\n",
      " 7-Biodata-Template.gdoc\n",
      " Accenture.gform\n",
      "'Accenture .gsheet'\n",
      "'Accenture (Responses).gsheet'\n",
      " Accenture_VSP_2019_CandidateTemplate.gsheet\n",
      " Accenture_VSP_2019_CandidateTemplate.xlsx\n",
      " Activity.pdf\n",
      " Alepo.gsheet\n",
      "'Alepo (Responses).gsheet'\n",
      " Amazon-Computer.gsheet\n",
      "'Amazon (Responses).gsheet'\n",
      "'Amazon Test Appeared Students.gsheet'\n",
      "'Availability of Funds for Maintenance under PMGSY and Bharat Nirman.gsheet'\n",
      "'Axis Bank.gform'\n",
      "'Axis Bank (Responses).gsheet'\n",
      "'Batch A offer Letter.gsheet'\n",
      " BCE.gdoc\n",
      "'bce speech.gdoc'\n",
      " \u001b[0m\u001b[01;34mBE\u001b[0m/\n",
      "\u001b[01;34m'BE (1)'\u001b[0m/\n",
      "'BE Comps Dolat Capital.gsheet'\n",
      "'BE Comps Dolat Capital.xlsx'\n",
      "'BE presenttion.gslides'\n",
      "'BE presenttion.pptx'\n",
      "'BE Project Final Report (1) (1).gdoc'\n",
      "'BE Project Final Report (1).docx'\n",
      "'BE Project Final Report (1).gdoc'\n",
      " best_model.hdf5\n",
      "'BE Updated Data Sem VI - CS (1).gsheet'\n",
      "'BE Updated Data Sem VI - CS.gsheet'\n",
      "'BE Updated Data Sem VI - CS.xlsx'\n",
      " bhanugoban-resume.pdf\n",
      " Bhanu.zip\n",
      "'Bhuna Chicken Factory.gsheet'\n",
      "'BNP Paribas Comps.gsheet'\n",
      "'BNP Paribas.gform'\n",
      "'BNP Paribas.gsheet'\n",
      "'BNP Paribas (Responses).gsheet'\n",
      "'BNP Paribas.xlsx'\n",
      "'Booking.com: Confirmation.pdf'\n",
      "'CE Data.xlsx'\n",
      "'CE Data.xlsx.gsheet'\n",
      "'channel icons.zip'\n",
      "\u001b[01;34m'channel icons.zip (Unzipped Files)'\u001b[0m/\n",
      " CHPTER_1-Human.ppt\n",
      "'Class notes (1).gdoc'\n",
      "'Class notes (2).gdoc'\n",
      "'Class notes (3).gdoc'\n",
      "'Class notes (4).gdoc'\n",
      "'Class notes.gdoc'\n",
      " CN_Practs2017Sheet.docx\n",
      "'CN UT2.gdoc'\n",
      " codelabs1.txt.gdoc\n",
      " codelabs2.txt.gdoc\n",
      "'codelabs - Copy.zip'\n",
      "\u001b[01;34m'Colab Notebooks'\u001b[0m/\n",
      " Complex.java\n",
      " contracts-web_Free24-12-2016_325416925.zip\n",
      "'Copy of Expt2_FuntionPoint.gdoc'\n",
      "'Copy of Expt3_COCOMO.gdoc'\n",
      "'Copy of Final Project'\n",
      "'CSS Algorithm.gdoc'\n",
      "'Database Format.gsheet'\n",
      "'Database Format.xlsx'\n",
      " database.gsheet\n",
      "'Details of central assistance sanctioned and released under Pradhan Mantri Awas Yojana (PMAY) as on 18th February 2016 (1).gsheet'\n",
      "'Details of central assistance sanctioned and released under Pradhan Mantri Awas Yojana (PMAY) as on 18th February 2016.gsheet'\n",
      "'District wise Physical Performance of Rural Road Scheme under PMGSY during the period of 2000-01 to 2004-05 – Based on Sample Survey 2010.gsheet'\n",
      "'Document from Bhanu Nadar'\n",
      "'Dolat captial.gform'\n",
      "'Dolat captial (Responses).gsheet'\n",
      "'dsp assignment rubrics.gdoc'\n",
      "'dsp assignment rubrics.pdf'\n",
      "'dsp manual changes.pdf'\n",
      " dvr.tcl\n",
      "'EggStation (1).gdoc'\n",
      " EggStation.docx\n",
      " EggStation.gdoc\n",
      " EMICalc.doc\n",
      "'Encryption Algorithm (1).gdoc'\n",
      "'Encryption Algorithm.docx'\n",
      "'Encryption Algorithm.gdoc'\n",
      "'Event Management Automation.gslides'\n",
      " exp7_c.odt\n",
      " exp7_c.odt.gdoc\n",
      "'Experiment 5.docx'\n",
      "'Experiment 6.docx'\n",
      "'Experiment 8.docx'\n",
      "'Experiment 9.docx'\n",
      "'Fiction Food.gform'\n",
      "'Fill it.gform'\n",
      "'final cv.docx'\n",
      "'final cv.gdoc'\n",
      "'Final Edit.mp4'\n",
      "\u001b[01;34m'Final year project'\u001b[0m/\n",
      "'Flexi Loans Comps.gsheet'\n",
      "'Flexi Loans.gform'\n",
      "'Flexi Loans (Responses).gsheet'\n",
      " frontend2.png\n",
      " frontend3.png\n",
      " frontend.png\n",
      " \u001b[01;34mGayatri\u001b[0m/\n",
      "'GEP COMPS.gsheet'\n",
      " GEP.gform\n",
      "'GEP (Responses).gsheet'\n",
      " German.gdoc\n",
      " \u001b[01;34mGOA\u001b[0m/\n",
      "'Google Compute Engine (Recovered).gslides'\n",
      "'GRAND FINALE OF STARTUP GOA HACKATHON DETAILED PROGRAM.gdoc'\n",
      "'HallTicket (1).pdf'\n",
      " HallTicket.pdf\n",
      "'HMI assignment.gdoc'\n",
      " HMI.gdoc\n",
      "'HMI Presentation.gslides'\n",
      " home_shoppe-web_Free26-10-2017_607046700.zip\n",
      " HTR\n",
      " IMG_20180401_145727.jpg\n",
      " IMG_20180401_150821.jpg\n",
      "'Ingram Micro.gform'\n",
      "'Ingram Micro (Responses).gsheet'\n",
      "'Janarakshak 1.0.gsheet'\n",
      " joyandsadness.odp\n",
      "'Just Dial (Responses).gsheet'\n",
      " KJSCE.gsheet\n",
      " lecture21b.gslides\n",
      " Letter.gdoc\n",
      " ListExperiments\n",
      " Love....gslides\n",
      "'LTI (Responses).gsheet'\n",
      " Media.net.gform\n",
      "'Media.net (Responses).gsheet'\n",
      "'Ministry of Broadcasting .gform'\n",
      " mitron.jpg\n",
      " model.tflite\n",
      "'MP (1).gdoc'\n",
      " MP.gdoc\n",
      "'Multilevel Index.gslides'\n",
      "'Mumbai to Goa.gdoc'\n",
      "'New Doc 1 - Page 1.jpg'\n",
      "'New Doc 2017-09-24.pdf'\n",
      " ns2.tcl\n",
      "'Number of complaints received on implementation of National Rural Livelihoods Mission (NRLM)- 2015.gsheet'\n",
      "'Number of households demanded and employment provided under Mahatma Gandhi National Rural Employment Guarantee Scheme (MGNREGS) from 2009-10 to 2015-16.gsheet'\n",
      "'Odessa hackathon.gform'\n",
      "'Odessa Hackathon.gsheet'\n",
      "'Odessa hackathon (Responses).gsheet'\n",
      "\u001b[01;34m'Offer Letter Batch A'\u001b[0m/\n",
      " Oracle-Comps.gsheet\n",
      "'Oracle (Responses).gsheet'\n",
      " os2.gdoc\n",
      " os4.docx\n",
      " OSasasd.docx.gdoc\n",
      "'OS Assignment-1.gdoc'\n",
      "'OS Assignment 2.docx'\n",
      "'OS .gdoc'\n",
      "'OS  project report template.docx'\n",
      "'os right codes'\n",
      "'OS UT2.gdoc'\n",
      "'Party Invite.gform'\n",
      "'Party Invite (Responses).gsheet'\n",
      "'Physical and Financial Progress under National Rural Livelihoods Mission (NRLM) as on 31.07.2015.gsheet'\n",
      "'Placement Further studies.gform'\n",
      "'Placement Further studies (Responses).gsheet'\n",
      "'Placement Statistic-Computers.gsheet'\n",
      " \u001b[01;34mprintout\u001b[0m/\n",
      "'Pr message.gdoc'\n",
      "'Programming Camp Syllabus.pdf'\n",
      " project-final.odt\n",
      "'Project proposal.gdoc'\n",
      "'Project Vision Document.gdoc'\n",
      "'Question Bank_2018.doc'\n",
      "'Question Bank_2018.gdoc'\n",
      "\u001b[01;34m'Quote App'\u001b[0m/\n",
      " Redirecting.pdf\n",
      "'Resume (1) (1).gdoc'\n",
      "'Resume (1).gdoc'\n",
      "'Resume (1).pdf'\n",
      "'Resume (2).gdoc'\n",
      "'Resume (3).gdoc'\n",
      "'Resume Bhanu.gdoc'\n",
      "'Resume - Copy (1).docx.gdoc'\n",
      "'Resume - Copy (1).docx.pdf'\n",
      "'Resume - Copy (2).docx.gdoc'\n",
      "'Resume - Copy.docx'\n",
      "'Resume - Copy.docx.gdoc'\n",
      "'Resume - Copy.docx.pdf'\n",
      " Resume.gdoc\n",
      "'RR Exp 4(d).c'\n",
      " rs_session-237_AU2880_1.7.gsheet\n",
      " rs_session_239_AS169_1.1_1.gsheet\n",
      "'Science project (1).gslides'\n",
      "'Science project.gslides'\n",
      " Screenshot_20181001-151003.png\n",
      " Screenshot_20181006_030742.png\n",
      " Screenshot_20181006_030757.png\n",
      "'Screenshot 2018-10-23 22.47.28.png'\n",
      "'Screenshot 2018-10-23 22.47.42.png'\n",
      " Screenshot_20190327-173938.png\n",
      "'SC solution.pdf'\n",
      " se4.docx\n",
      " se4.docx.gdoc\n",
      " Sequence.pdf\n",
      " SEWBTRubrics.docx\n",
      " SEWBTRubrics.docx.gdoc\n",
      "'shell scripting.gslides'\n",
      "'shell scripting.odp'\n",
      " Shweta-Resume.pdf\n",
      "'SIH Database.gsheet'\n",
      " SimpleCalc.doc\n",
      " sliding_server.c\n",
      "'Smart India Hackathon Free T shirt from Ministry of Broadcasting .gform'\n",
      " SQLNet-master.zip\n",
      "'SQL Query Model.gdoc'\n",
      " SRS.docx\n",
      " \u001b[01;34mSS\u001b[0m/\n",
      " stopandwait.tcl\n",
      " student.gdoc\n",
      "'Students Not placed yet.gsheet'\n",
      "\"Suraj's Resume.pdf\"\n",
      "'TATA Communication-COMPS.gsheet'\n",
      " TATA.gform\n",
      "'Tata Power.gsheet'\n",
      "'TATA (Responses).gsheet'\n",
      " tcpudp.tcl\n",
      " tf00002024.gdoc\n",
      " this_message_in_html.htm.gdoc\n",
      " TIAA-COMPS.gsheet\n",
      " TIAA.gform\n",
      "'TIAA (Responses).gsheet'\n",
      "'To Buy Barbie Doll.gdoc'\n",
      " unknown\n",
      "'Untitled Diagram.pdf'\n",
      "'Untitled Diagram.xml'\n",
      "'Untitled document (10).gdoc'\n",
      "'Untitled document (11).gdoc'\n",
      "'Untitled document (12).gdoc'\n",
      "'Untitled document (13).gdoc'\n",
      "'Untitled document (14).gdoc'\n",
      "'Untitled document (15).gdoc'\n",
      "'Untitled document (16).gdoc'\n",
      "'Untitled document (17).gdoc'\n",
      "'Untitled document (18).gdoc'\n",
      "'Untitled document (19).gdoc'\n",
      "'Untitled document (1).gdoc'\n",
      "'Untitled document (2).gdoc'\n",
      "'Untitled document (3).gdoc'\n",
      "'Untitled document (4).gdoc'\n",
      "'Untitled document (5).gdoc'\n",
      "'Untitled document (6).gdoc'\n",
      "'Untitled document (7).gdoc'\n",
      "'Untitled document (8).gdoc'\n",
      "'Untitled document (9).gdoc'\n",
      "'Untitled document.gdoc'\n",
      "'Untitled form (1).gform'\n",
      "'Untitled form (2).gform'\n",
      "'Untitled form.gform'\n",
      "'Untitled form (Responses).gsheet'\n",
      "'Untitled presentation (1).gslides'\n",
      "'Untitled presentation.gslides'\n",
      "'Untitled spreadsheet (1).gsheet'\n",
      "'Untitled spreadsheet.gsheet'\n",
      "'Updated_List of Interested Students_Format.gsheet'\n",
      "'Updated_List of Interested Students_Format.xlsx'\n",
      "'Vadilal Ice-cream Testing Program.gform'\n",
      "'Vadilal Ice-cream Testing Program (Responses).gsheet'\n",
      " VID_20180419_202833.mp4\n",
      " \u001b[01;34mVideos\u001b[0m/\n",
      "'Vistaar (Responses).gsheet'\n",
      " Week2.gdoc\n",
      "'Week 4'\n",
      "'WT Exp-9.docx'\n",
      " WTl-Evaluation3-2017-18.docx\n",
      "'Your big idea (1).gslides'\n",
      "'Your big idea (2).gslides'\n",
      "'Your big idea.gslides'\n",
      "'zomato accounts.gsheet'\n",
      "'ZS_Campus Name_2018_Student Data.gsheet'\n",
      "'ZS .gform'\n",
      "'ZS Job Profile.gform'\n",
      "'ZS Job Profile (Responses).gsheet'\n",
      "'ZS  (Responses).gsheet'\n",
      " Zycus.gsheet\n",
      "'ZYCUS (Responses)2.gsheet'\n",
      "'ZYCUS (Responses).gsheet'\n"
     ]
    }
   ],
   "source": [
    "ls"
   ]
  },
  {
   "cell_type": "code",
   "execution_count": 0,
   "metadata": {
    "colab": {
     "base_uri": "https://localhost:8080/",
     "height": 51
    },
    "colab_type": "code",
    "id": "H8QypZ1kxzMb",
    "outputId": "5c698dd5-7fd1-4857-9602-b4a29cb225aa"
   },
   "outputs": [
    {
     "name": "stdout",
     "output_type": "stream",
     "text": [
      "[Errno 2] No such file or directory: 'drive/My Drive'\n",
      "/content/drive/My Drive\n"
     ]
    }
   ],
   "source": [
    "cd drive/My Drive"
   ]
  },
  {
   "cell_type": "markdown",
   "metadata": {
    "colab_type": "text",
    "id": "q3YAVYO2NCgz"
   },
   "source": [
    "# Convert the Keras model to a TensorFlow Lite model and write the .tflite file"
   ]
  },
  {
   "cell_type": "code",
   "execution_count": 0,
   "metadata": {
    "colab": {
     "base_uri": "https://localhost:8080/",
     "height": 68
    },
    "colab_type": "code",
    "id": "go_GFH86fLHr",
    "outputId": "14472c4b-27fc-4c93-d407-34196d4f68f3"
   },
   "outputs": [
    {
     "name": "stdout",
     "output_type": "stream",
     "text": [
      "INFO:tensorflow:Froze 137 variables.\n",
      "INFO:tensorflow:Converted 137 variables to const ops.\n"
     ]
    },
    {
     "data": {
      "text/plain": [
       "14603080"
      ]
     },
     "execution_count": 13,
     "metadata": {
      "tags": []
     },
     "output_type": "execute_result"
    }
   ],
   "source": [
    "\n",
    "converter = lite.TFLiteConverter.from_keras_model_file( 'best_model.hdf5' ) \n",
    "model = converter.convert()\n",
    "\n",
    "file = open( 'model.tflite' , 'wb' ) \n",
    "file.write( model )\n"
   ]
  },
  {
   "cell_type": "markdown",
   "metadata": {
    "colab_type": "text",
    "id": "cGSRGCDFvQgX"
   },
   "source": [
    "# Check the output data type and shape."
   ]
  },
  {
   "cell_type": "code",
   "execution_count": 0,
   "metadata": {
    "colab": {
     "base_uri": "https://localhost:8080/",
     "height": 85
    },
    "colab_type": "code",
    "id": "-oow8h4znSYR",
    "outputId": "256f52fb-b92b-44d1-cb42-9d03952c04e2"
   },
   "outputs": [
    {
     "name": "stdout",
     "output_type": "stream",
     "text": [
      "[  1 224 224   3]\n",
      "<class 'numpy.float32'>\n",
      "[1 9]\n",
      "<class 'numpy.float32'>\n"
     ]
    }
   ],
   "source": [
    "import tensorflow as tf\n",
    "import numpy as np\n",
    "\n",
    "interpreter = tf.contrib.lite.Interpreter(model_path=\"model.tflite\")\n",
    "interpreter.allocate_tensors()\n",
    "\n",
    "print(interpreter.get_input_details()[0]['shape'])  \n",
    "print(interpreter.get_input_details()[0]['dtype']) \n",
    "\n",
    "print(interpreter.get_output_details()[0]['shape'])  \n",
    "print(interpreter.get_output_details()[0]['dtype']) \n"
   ]
  },
  {
   "cell_type": "code",
   "execution_count": 0,
   "metadata": {
    "colab": {},
    "colab_type": "code",
    "id": "GY3Ocv0wXpUb"
   },
   "outputs": [],
   "source": []
  }
 ],
 "metadata": {
  "accelerator": "GPU",
  "colab": {
   "collapsed_sections": [],
   "name": "Copy of TFLiteConverter.ipynb",
   "provenance": [],
   "version": "0.3.2"
  },
  "kernelspec": {
   "display_name": "DL",
   "language": "python",
   "name": "dl"
  },
  "language_info": {
   "codemirror_mode": {
    "name": "ipython",
    "version": 3
   },
   "file_extension": ".py",
   "mimetype": "text/x-python",
   "name": "python",
   "nbconvert_exporter": "python",
   "pygments_lexer": "ipython3",
   "version": "3.6.7"
  }
 },
 "nbformat": 4,
 "nbformat_minor": 1
}
